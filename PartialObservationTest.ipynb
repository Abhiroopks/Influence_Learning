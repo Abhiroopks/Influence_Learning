{
 "cells": [
  {
   "cell_type": "code",
   "execution_count": null,
   "id": "47ec0ee8",
   "metadata": {},
   "outputs": [],
   "source": [
    "\"\"\"\n",
    "Creates a randomized influence network and simulates over all possible initial configs\n",
    "Learns the influence network edge weights using global learner for each node - assumes partial observations given\n",
    "Prints train/test error rate for entire network\n",
    "\n",
    "\"\"\"\n",
    "\n",
    "import Network\n",
    "import DataGen\n",
    "import PartialObservationLearner\n",
    "import importlib\n",
    "import numpy as np"
   ]
  },
  {
   "cell_type": "code",
   "execution_count": null,
   "id": "664bd7b3",
   "metadata": {},
   "outputs": [],
   "source": [
    "# example of various functionality\n",
    "N = 10\n",
    "\n",
    "importlib.reload(Network)\n",
    "\n",
    "graph = Network.Network(num_nodes=N, sparsity=0.5, normalize_incoming=True)\n"
   ]
  },
  {
   "cell_type": "code",
   "execution_count": null,
   "id": "b520acbd",
   "metadata": {
    "scrolled": false
   },
   "outputs": [],
   "source": [
    "vis = False\n",
    "\n",
    "\"\"\"\n",
    "For visualization of network\n",
    "Works best when N is small, otherwise the edge labels get too crowded\n",
    "\n",
    "\"\"\"\n",
    "if(vis):\n",
    "    import networkx as nx\n",
    "    import matplotlib.pyplot as plt\n",
    "    plt.rcParams['figure.dpi'] = 150\n",
    "\n",
    "    G = nx.from_numpy_matrix(graph.weights, create_using=nx.DiGraph)  \n",
    "    layout = nx.spring_layout(G)\n",
    "    nx.draw(G, pos = layout, with_labels=True) \n",
    "    labels = nx.get_edge_attributes(G, \"weight\")\n",
    "    nx.draw_networkx_edge_labels(G, pos=layout, edge_labels=labels, label_pos=.5)\n",
    "    plt.show()"
   ]
  },
  {
   "cell_type": "code",
   "execution_count": null,
   "id": "a37b872c",
   "metadata": {},
   "outputs": [],
   "source": [
    "importlib.reload(DataGen)\n",
    "data = DataGen.genSamples(graph)\n"
   ]
  },
  {
   "cell_type": "code",
   "execution_count": null,
   "id": "4e8025be",
   "metadata": {},
   "outputs": [],
   "source": [
    "importlib.reload(PartialObservationLearner)\n",
    "PartialObservationLearner.learn(input_data=data)"
   ]
  },
  {
   "cell_type": "code",
   "execution_count": null,
   "id": "ea86c1b6",
   "metadata": {},
   "outputs": [],
   "source": []
  }
 ],
 "metadata": {
  "kernelspec": {
   "display_name": "Python 3",
   "language": "python",
   "name": "python3"
  },
  "language_info": {
   "codemirror_mode": {
    "name": "ipython",
    "version": 3
   },
   "file_extension": ".py",
   "mimetype": "text/x-python",
   "name": "python",
   "nbconvert_exporter": "python",
   "pygments_lexer": "ipython3",
   "version": "3.9.1"
  }
 },
 "nbformat": 4,
 "nbformat_minor": 5
}
