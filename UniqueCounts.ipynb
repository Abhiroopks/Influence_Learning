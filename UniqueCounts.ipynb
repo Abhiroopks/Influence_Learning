{
 "cells": [
  {
   "cell_type": "code",
   "execution_count": 33,
   "id": "a6ad5ed3",
   "metadata": {},
   "outputs": [
    {
     "name": "stdout",
     "output_type": "stream",
     "text": [
      "194.432\n"
     ]
    }
   ],
   "source": [
    "import Network\n",
    "import DataGen\n",
    "import importlib\n",
    "import numpy as np\n",
    "import matplotlib.pyplot as plt\n",
    "\n",
    "'''\n",
    "Generates a random graph and simulates cascades\n",
    "Counts # of unique snapshots throughout all cascades\n",
    "\n",
    "'''\n",
    "\n",
    "N = 10\n",
    "uniques = []\n",
    "\n",
    "for i in range(500):\n",
    "    graph = Network.RandomNetwork(num_nodes=N, sparsity=0.5, normalize_incoming=True)\n",
    "    importlib.reload(DataGen)\n",
    "    data = DataGen.genSamples(graph)\n",
    "    data = np.array(data)\n",
    "    # Remove seed rows and flatten over cascades\n",
    "    newdata = np.delete(data, obj=0, axis=1).reshape((N-1) * 2**N, N)\n",
    "    uniques.append(np.unique(newdata, axis=0).shape[0])\n",
    "\n",
    "print(sum(uniques)/len(uniques))\n"
   ]
  },
  {
   "cell_type": "code",
   "execution_count": null,
   "id": "79a4e617",
   "metadata": {},
   "outputs": [],
   "source": []
  }
 ],
 "metadata": {
  "kernelspec": {
   "display_name": "Python 3",
   "language": "python",
   "name": "python3"
  },
  "language_info": {
   "codemirror_mode": {
    "name": "ipython",
    "version": 3
   },
   "file_extension": ".py",
   "mimetype": "text/x-python",
   "name": "python",
   "nbconvert_exporter": "python",
   "pygments_lexer": "ipython3",
   "version": "3.9.1"
  }
 },
 "nbformat": 4,
 "nbformat_minor": 5
}
